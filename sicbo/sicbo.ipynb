{
 "cells": [
  {
   "cell_type": "code",
   "execution_count": 1,
   "metadata": {},
   "outputs": [],
   "source": [
    "import pyautogui as pgui,cv2,webbrowser,time,random\n",
    "X=[30,14,10,7,6,5,4,3,4]"
   ]
  },
  {
   "cell_type": "code",
   "execution_count": 4,
   "metadata": {},
   "outputs": [
    {
     "name": "stdout",
     "output_type": "stream",
     "text": [
      "1 2 3 4 5 6 7 8 9 10 11 12 13 14 15 win 利益は11\n",
      "1 2 3 4 5 6 7 8 9 10 11 12 13 14 15 16 17 18 19 20 21 22 23 24 25 26 27 28 29 30 31 32 33 34 35 36 37 38 39 40 41 42 43 44 45 46 47 48 49 50 51 52 53 54 55 56 57 58 59 60 61 62 63 64 65 66 67 68 69 70 71 72 73 74 75 76 77 78 79 lose 損失は-136\n",
      "1 2 3 4 5 6 7 8 9 10 11 win 利益は14\n",
      "1 2 3 4 5 win 利益は17\n",
      "1 2 3 4 5 6 7 win 利益は16\n",
      "1 2 3 4 5 6 7 8 9 10 11 12 13 14 15 16 17 18 19 20 21 22 23 24 25 26 27 28 29 30 31 32 33 34 35 36 37 38 39 40 41 42 43 44 45 46 47 48 49 50 51 52 53 54 55 56 57 58 59 60 61 62 63 64 65 66 67 68 69 70 71 72 73 74 75 76 77 78 79 lose 損失は-136\n",
      "敗北！　-214\n"
     ]
    }
   ],
   "source": [
    "def rebet_open():\n",
    "    #再ベットしてオープン\n",
    "    time.sleep(0.2)\n",
    "    pos=0\n",
    "    A=False\n",
    "    for pos in pgui.locateAllOnScreen(\"img\\Rebet.PNG\",confidence=.6):\n",
    "        if len(pos)>0:\n",
    "            A=True\n",
    "            break\n",
    "    if A==True:\n",
    "        pgui.click(150, 150) #安全地帯\n",
    "        x, y = pgui.center(pos)\n",
    "        time.sleep(0.1)\n",
    "        pgui.click(x, y)\n",
    "        time.sleep(0.2)\n",
    "        pgui.click(x, y)\n",
    "\n",
    "def open():\n",
    "    #オープン\n",
    "    time.sleep(1)\n",
    "    pos=0\n",
    "    A=False\n",
    "    for pos in pgui.locateAllOnScreen(\"img\\Open.PNG\",confidence=.6):\n",
    "        if len(pos)>0:\n",
    "            A=True\n",
    "            break\n",
    "    if A==True:\n",
    "        x, y = pgui.center(pos)\n",
    "        time.sleep(1)\n",
    "        pgui.click(x, y)\n",
    "    \n",
    "def bet6(count):\n",
    "    #6つのゾロ目にベット\n",
    "    bet=[\"img\\X1.png\",\"img\\X2.png\",\"img\\X3.png\",\"img\\X4.png\",\"img\\X5.png\",\"img\\X6.png\"]\n",
    "    pos=0\n",
    "    A=False\n",
    "    time.sleep(1)\n",
    "    for i in bet:\n",
    "        for pos in pgui.locateAllOnScreen(i,confidence=.8):\n",
    "            if len(pos)>0:\n",
    "                A=True\n",
    "                break\n",
    "        if A==True:\n",
    "            x, y = pgui.center(pos)\n",
    "            for i in range(count):\n",
    "                time.sleep(0.3)\n",
    "                pgui.click(x, y)\n",
    "\n",
    "def judge():\n",
    "    #勝利判定\n",
    "    Judge=False\n",
    "    for i in range(13):\n",
    "        for PING in pgui.locateAllOnScreen(\"img\\Win.PNG\",confidence=.6):\n",
    "            if len(PING)>0:\n",
    "                Judge=True\n",
    "                break\n",
    "    return Judge\n",
    "\n",
    "def cont():\n",
    "    #６０分経過後のコンティニューを押す\n",
    "    pos=0\n",
    "    A=False\n",
    "    time.sleep(0.3)\n",
    "    for pos in pgui.locateAllOnScreen(\"img\\Continue.PNG\",confidence=.6):\n",
    "        if len(pos)>0:\n",
    "            A=True\n",
    "            break\n",
    "    if A==True:\n",
    "        x, y = pgui.center(pos)\n",
    "        pgui.click(150, 150) #安全地帯\n",
    "        time.sleep(1)\n",
    "        pgui.click(x, y)\n",
    "\n",
    "total_benefit=0\n",
    "for i in range(30):\n",
    "    count=0\n",
    "    cost=0\n",
    "    bit=0\n",
    "\n",
    "    haitou=209\n",
    "    for k in range(8):\n",
    "        bit += 1\n",
    "        for j in range(0,X[k]):\n",
    "            cont()\n",
    "            count += 1\n",
    "            cost += (bit*6)\n",
    "            if j==0:\n",
    "                bet6(k+1)\n",
    "                time.sleep(1)\n",
    "                open()\n",
    "            else:\n",
    "                time.sleep(0.5)\n",
    "                rebet_open()\n",
    "\n",
    "            time.sleep(2.5)\n",
    "            Judge = judge()\n",
    "            print(count,end=\" \")\n",
    "            if Judge==True:\n",
    "                print(\"win\",end=\" \")\n",
    "                benefit=((bit*haitou)-cost)//10\n",
    "                print(\"利益は\"+str(benefit))\n",
    "                total_benefit+=benefit\n",
    "                break\n",
    "        if Judge==True:\n",
    "            break\n",
    "    if Judge==False:\n",
    "        total_benefit-=cost//10\n",
    "        print(\"lose\"+\" 損失は-\"+str(cost//10))\n",
    "    if total_benefit>=150:\n",
    "        print(\"勝利！利益　\"+str(total_benefit))\n",
    "    elif total_benefit<=-150:\n",
    "        print(\"敗北！　\"+str(total_benefit))\n",
    "        break\n"
   ]
  },
  {
   "cell_type": "code",
   "execution_count": 23,
   "metadata": {},
   "outputs": [
    {
     "name": "stdout",
     "output_type": "stream",
     "text": [
      "False\n"
     ]
    }
   ],
   "source": [
    "print(Judge)"
   ]
  },
  {
   "cell_type": "code",
   "execution_count": 44,
   "metadata": {},
   "outputs": [
    {
     "name": "stdout",
     "output_type": "stream",
     "text": [
      "-1263\n"
     ]
    }
   ],
   "source": [
    "print(total_benefit)"
   ]
  },
  {
   "cell_type": "code",
   "execution_count": 34,
   "metadata": {},
   "outputs": [
    {
     "data": {
      "text/plain": [
       "True"
      ]
     },
     "execution_count": 34,
     "metadata": {},
     "output_type": "execute_result"
    }
   ],
   "source": [
    "judge()"
   ]
  },
  {
   "cell_type": "code",
   "execution_count": null,
   "metadata": {},
   "outputs": [],
   "source": []
  }
 ],
 "metadata": {
  "interpreter": {
   "hash": "7aefd2f56b39aee68bf6426d38aba748673318ec77f63c2a7e7039ae0786a2e9"
  },
  "kernelspec": {
   "display_name": "Python 3.10.2 64-bit",
   "language": "python",
   "name": "python3"
  },
  "language_info": {
   "codemirror_mode": {
    "name": "ipython",
    "version": 3
   },
   "file_extension": ".py",
   "mimetype": "text/x-python",
   "name": "python",
   "nbconvert_exporter": "python",
   "pygments_lexer": "ipython3",
   "version": "3.10.2"
  },
  "orig_nbformat": 4
 },
 "nbformat": 4,
 "nbformat_minor": 2
}
