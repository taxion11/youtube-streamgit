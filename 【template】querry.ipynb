{
 "cells": [
  {
   "cell_type": "code",
   "execution_count": 1,
   "metadata": {},
   "outputs": [],
   "source": [
    "N,K,Q=input().split()\n",
    "N=int(N)\n",
    "K=int(K)\n",
    "Q=int(Q)\n",
    "A=[input() for i in range(N)]\n",
    "for i in range(N):\n",
    "    A[i]=int(A[i])"
   ]
  },
  {
   "cell_type": "code",
   "execution_count": null,
   "metadata": {},
   "outputs": [],
   "source": [
    "A.insert(K,Q)\n",
    "for i in A:\n",
    "    print(i)"
   ]
  },
  {
   "cell_type": "code",
   "execution_count": null,
   "metadata": {},
   "outputs": [],
   "source": [
    "#セット型を使う\n",
    "N,Q=input().split()\n",
    "N=int(N)\n",
    "Q=int(Q)\n",
    "A={int(input() )for i in range(N)} #セット型\n",
    "K=[input() for i in range(Q)]\n",
    "for i in range(Q):\n",
    "    K[i]=int(K[i])\n",
    "for i in range(Q):\n",
    "    if (K[i] in A)==True:\n",
    "        print(\"YES\")\n",
    "    else:\n",
    "        print(\"NO\")"
   ]
  },
  {
   "cell_type": "code",
   "execution_count": null,
   "metadata": {},
   "outputs": [],
   "source": [
    "for i in range(Q):\n",
    "    if (K[i] in A)==True:\n",
    "        print(\"YES\")\n",
    "    else:\n",
    "        print(\"NO\")"
   ]
  },
  {
   "cell_type": "code",
   "execution_count": null,
   "metadata": {},
   "outputs": [],
   "source": [
    "N=int(input())\n",
    "A=[input() for i in range(N)]\n",
    "for i in range(N):\n",
    "    A[i]=int(A[i])\n",
    "A.pop(0)\n",
    "for i in A:\n",
    "    print(i)\n"
   ]
  },
  {
   "cell_type": "code",
   "execution_count": 1,
   "metadata": {},
   "outputs": [],
   "source": [
    "#dequeを使う\n",
    "from collections import deque\n",
    "\n",
    "N, K = map(int, input().split())\n",
    "A = deque([int(input()) for _ in range(N)])\n",
    "\n",
    "f = 0\n",
    "for _ in range(K):\n",
    "    s = input()\n",
    "    if s == \"pop\":\n",
    "        A.popleft()\n",
    "        continue\n",
    "    for a in A:\n",
    "        print(a)"
   ]
  },
  {
   "cell_type": "code",
   "execution_count": 32,
   "metadata": {},
   "outputs": [],
   "source": [
    "from collections import deque\n",
    "N, K = map(int, input().split())\n",
    "num=(input().split() for i in range(N) )\n",
    "NUM=dict(num)"
   ]
  },
  {
   "cell_type": "code",
   "execution_count": 34,
   "metadata": {},
   "outputs": [],
   "source": [
    "import copy\n",
    "Num = copy.deepcopy(NUM)"
   ]
  },
  {
   "cell_type": "code",
   "execution_count": null,
   "metadata": {},
   "outputs": [],
   "source": [
    "\n",
    "for _ in range(K):\n",
    "    S=[]    \n",
    "    S = input().split()\n",
    "\n",
    "    pass\n",
    "    if S[0]==\"call\":\n",
    "        print(Num[str(S[1])])\n",
    "    elif S[0]==\"leave\":\n",
    "        Num.pop(str(S[1]))\n",
    "    elif S[0]==\"join\":\n",
    "        Num[str(S[1])]=S[2]\n",
    "\n",
    "\n"
   ]
  },
  {
   "cell_type": "code",
   "execution_count": 42,
   "metadata": {},
   "outputs": [],
   "source": [
    "\n",
    "N, X,P = map(int, input().split())\n",
    "A = [int(input()) for _ in range(N)]\n"
   ]
  },
  {
   "cell_type": "code",
   "execution_count": 52,
   "metadata": {},
   "outputs": [],
   "source": [
    "import copy\n",
    "A2 = copy.deepcopy(A)"
   ]
  },
  {
   "cell_type": "code",
   "execution_count": 57,
   "metadata": {},
   "outputs": [
    {
     "data": {
      "text/plain": [
       "10"
      ]
     },
     "execution_count": 57,
     "metadata": {},
     "output_type": "execute_result"
    }
   ],
   "source": [
    "A2.append(X)\n",
    "A2.append(P)\n",
    "\n",
    "A2.sort()\n",
    "A2.index(P+1)"
   ]
  },
  {
   "cell_type": "code",
   "execution_count": 58,
   "metadata": {},
   "outputs": [],
   "source": [
    "N, K,P = map(int, input().split())\n",
    "A=[]\n",
    "A = [int(input()) for _ in range(N)]\n"
   ]
  },
  {
   "cell_type": "code",
   "execution_count": 63,
   "metadata": {},
   "outputs": [],
   "source": [
    "import copy\n",
    "A2 = copy.deepcopy(A)\n",
    "A2.append(P)"
   ]
  },
  {
   "cell_type": "code",
   "execution_count": 64,
   "metadata": {},
   "outputs": [
    {
     "name": "stdout",
     "output_type": "stream",
     "text": [
      "5\n"
     ]
    }
   ],
   "source": [
    "for _ in range(K):\n",
    "    S=[]    \n",
    "    S = input().split()\n",
    "    if S[0]==\"join\":\n",
    "        A2.append(int(S[1]))\n",
    "    else:\n",
    "        A2.sort()\n",
    "        print(A2.index(P)+1)"
   ]
  },
  {
   "cell_type": "code",
   "execution_count": 92,
   "metadata": {},
   "outputs": [],
   "source": [
    "N, K = map(int, input().split())\n",
    "name={input() for i in range(N)}\n",
    "S=[]\n",
    "S=[input().split() for i in range(K)]"
   ]
  },
  {
   "cell_type": "code",
   "execution_count": 113,
   "metadata": {},
   "outputs": [],
   "source": [
    "import copy\n",
    "Name = copy.deepcopy(name)\n",
    "S2 = copy.deepcopy(S)"
   ]
  },
  {
   "cell_type": "code",
   "execution_count": null,
   "metadata": {},
   "outputs": [],
   "source": [
    "print(Name)\n",
    "print(S2)"
   ]
  },
  {
   "cell_type": "code",
   "execution_count": null,
   "metadata": {},
   "outputs": [],
   "source": [
    "for i in range(K):\n",
    "    if S2[i][0]==\"join\":\n",
    "        Name.add(S[i][1])\n",
    "    elif S2[i][0]==\"leave\":\n",
    "        Name.remove(S[i][1])\n",
    "    else:\n",
    "        \n",
    "        for j in sorted(Name):\n",
    "            print(j)"
   ]
  },
  {
   "cell_type": "code",
   "execution_count": null,
   "metadata": {},
   "outputs": [],
   "source": [
    "print(Name)\n",
    "print(S2)"
   ]
  },
  {
   "cell_type": "code",
   "execution_count": 117,
   "metadata": {},
   "outputs": [],
   "source": [
    "N, K = map(int, input().split())\n",
    "S=[input() for i in range(N)]\n",
    "Y=[input().split() for i in range(K)]"
   ]
  },
  {
   "cell_type": "code",
   "execution_count": 130,
   "metadata": {},
   "outputs": [],
   "source": [
    "for i in range(K):\n",
    "    Y[i][0]=int(Y[i][0])\n",
    "HIS=dict(Y)"
   ]
  },
  {
   "cell_type": "code",
   "execution_count": 133,
   "metadata": {},
   "outputs": [],
   "source": [
    "His=sorted(HIS.items())"
   ]
  },
  {
   "cell_type": "code",
   "execution_count": null,
   "metadata": {},
   "outputs": [],
   "source": [
    "for year,event in sorted(HIS):\n",
    "    print(event)"
   ]
  },
  {
   "cell_type": "code",
   "execution_count": null,
   "metadata": {},
   "outputs": [],
   "source": [
    "print(S)\n",
    "print(His)"
   ]
  },
  {
   "cell_type": "code",
   "execution_count": 149,
   "metadata": {},
   "outputs": [],
   "source": [
    "#会社名KEY、[暗証番号、残高]を辞書に入力、\n",
    "N, K = map(int, input().split())\n",
    "Com={}\n",
    "for i in range(N):\n",
    "    C=input().split()\n",
    "    C[2]=int(C[2])\n",
    "    Com[C[0]]=[C[1],C[2]]"
   ]
  },
  {
   "cell_type": "code",
   "execution_count": 152,
   "metadata": {},
   "outputs": [
    {
     "name": "stdout",
     "output_type": "stream",
     "text": [
      "['0000', 10000]\n"
     ]
    }
   ],
   "source": [
    "print(Com[\"A\"])"
   ]
  },
  {
   "cell_type": "code",
   "execution_count": 143,
   "metadata": {},
   "outputs": [
    {
     "name": "stdout",
     "output_type": "stream",
     "text": [
      "[['A', 0, 10000], ['B', 1234, 23456], ['C', 5678, 98765]]\n"
     ]
    }
   ],
   "source": [
    "print(C)"
   ]
  },
  {
   "cell_type": "code",
   "execution_count": 158,
   "metadata": {},
   "outputs": [
    {
     "name": "stdout",
     "output_type": "stream",
     "text": [
      "0000\n",
      "1234\n",
      "5678\n",
      "0000\n",
      "1234\n"
     ]
    }
   ],
   "source": [
    "for i in range(K):\n",
    "    G=[]\n",
    "    A=0\n",
    "    G=input().split()\n",
    "    G[2]=int(G[2])\n",
    "    print(Com[G[0]][0])\n",
    "    if Com[G[0]][0]==G[1]:\n",
    "        A=Com[G[0]][1]-G[2]\n",
    "        Com.update({G[0]:[G[1],A]})"
   ]
  },
  {
   "cell_type": "code",
   "execution_count": 172,
   "metadata": {},
   "outputs": [
    {
     "name": "stdout",
     "output_type": "stream",
     "text": [
      "A 9800\n",
      "B 22456\n",
      "C 8765\n"
     ]
    }
   ],
   "source": [
    "for c,m in Com.items():\n",
    "    print(c+\" \"+str(m[1]))"
   ]
  },
  {
   "cell_type": "code",
   "execution_count": 159,
   "metadata": {},
   "outputs": [
    {
     "name": "stdout",
     "output_type": "stream",
     "text": [
      "{'A': ['0000', 9800], 'B': ['1234', 22456], 'C': ['5678', 8765]}\n",
      "['B', '1233', 10000]\n"
     ]
    }
   ],
   "source": [
    "print(Com)\n",
    "print(G)"
   ]
  }
 ],
 "metadata": {
  "interpreter": {
   "hash": "7aefd2f56b39aee68bf6426d38aba748673318ec77f63c2a7e7039ae0786a2e9"
  },
  "kernelspec": {
   "display_name": "Python 3.10.2 64-bit",
   "language": "python",
   "name": "python3"
  },
  "language_info": {
   "codemirror_mode": {
    "name": "ipython",
    "version": 3
   },
   "file_extension": ".py",
   "mimetype": "text/x-python",
   "name": "python",
   "nbconvert_exporter": "python",
   "pygments_lexer": "ipython3",
   "version": "3.10.2"
  },
  "orig_nbformat": 4
 },
 "nbformat": 4,
 "nbformat_minor": 2
}
