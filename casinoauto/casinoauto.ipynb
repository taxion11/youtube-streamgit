{
 "cells": [
  {
   "cell_type": "markdown",
   "id": "213a47c4-a49f-4b9d-871b-60ab58726541",
   "metadata": {},
   "source": [
    "3"
   ]
  },
  {
   "cell_type": "code",
   "execution_count": 129,
   "id": "dc8fb001-b388-481d-8c25-9a14554f34fe",
   "metadata": {},
   "outputs": [],
   "source": [
    "\n",
    "import pyautogui as pgui,cv2,webbrowser,time,random\n"
   ]
  },
  {
   "cell_type": "code",
   "execution_count": 117,
   "id": "b219dc78",
   "metadata": {},
   "outputs": [
    {
     "name": "stdout",
     "output_type": "stream",
     "text": [
      "[1, 1, 2, 3, 5, 8, 13, 21, 34, 55, 89, 144, 233, 377]\n"
     ]
    }
   ],
   "source": [
    "X=[1,1]\n",
    "for i in range(2,14):\n",
    "    X.append(X[i-2]+X[i-1])\n",
    "print(X)"
   ]
  },
  {
   "cell_type": "code",
   "execution_count": 143,
   "id": "555f4b25",
   "metadata": {},
   "outputs": [
    {
     "name": "stdout",
     "output_type": "stream",
     "text": [
      "lose win1 0\n",
      "win1 win1 lose lose lose lose lose lose8 lose lose lose lose win5 lose lose win2 lose lose win2 lose lose win2 lose win1 lose lose lose lose lose lose8 lose lose lose lose win5 10\n",
      "win1 win1 lose win1 lose win1 lose win1 win1 win1 lose lose lose lose lose lose8 win8 lose lose lose lose lose lose8 lose lose lose lose win5 20\n",
      "lose lose lose win3 lose lose win2 lose win1 win1 win1 lose win1 win1 lose win1 lose lose lose win3 win1 30\n",
      "lose lose win2 lose win1 lose win1 lose lose win2 lose win1 win1 "
     ]
    },
    {
     "ename": "KeyboardInterrupt",
     "evalue": "",
     "output_type": "error",
     "traceback": [
      "\u001b[1;31m---------------------------------------------------------------------------\u001b[0m",
      "\u001b[1;31mKeyboardInterrupt\u001b[0m                         Traceback (most recent call last)",
      "\u001b[1;32mc:\\Users\\taxio\\python\\Untitled.ipynb Cell 4'\u001b[0m in \u001b[0;36m<cell line: 82>\u001b[1;34m()\u001b[0m\n\u001b[0;32m     <a href='vscode-notebook-cell:/c%3A/Users/taxio/python/Untitled.ipynb#ch0000007?line=83'>84</a>\u001b[0m cont()\n\u001b[0;32m     <a href='vscode-notebook-cell:/c%3A/Users/taxio/python/Untitled.ipynb#ch0000007?line=84'>85</a>\u001b[0m bet1_12(X[C])\n\u001b[1;32m---> <a href='vscode-notebook-cell:/c%3A/Users/taxio/python/Untitled.ipynb#ch0000007?line=85'>86</a>\u001b[0m spin()\n\u001b[0;32m     <a href='vscode-notebook-cell:/c%3A/Users/taxio/python/Untitled.ipynb#ch0000007?line=86'>87</a>\u001b[0m Judge\u001b[39m=\u001b[39mjudge()\n\u001b[0;32m     <a href='vscode-notebook-cell:/c%3A/Users/taxio/python/Untitled.ipynb#ch0000007?line=87'>88</a>\u001b[0m \u001b[39mwhile\u001b[39;00m Judge\u001b[39m==\u001b[39m\u001b[39mFalse\u001b[39;00m:\n",
      "\u001b[1;32mc:\\Users\\taxio\\python\\Untitled.ipynb Cell 4'\u001b[0m in \u001b[0;36mspin\u001b[1;34m()\u001b[0m\n\u001b[0;32m     <a href='vscode-notebook-cell:/c%3A/Users/taxio/python/Untitled.ipynb#ch0000007?line=46'>47</a>\u001b[0m time\u001b[39m.\u001b[39msleep(\u001b[39m1\u001b[39m)\n\u001b[0;32m     <a href='vscode-notebook-cell:/c%3A/Users/taxio/python/Untitled.ipynb#ch0000007?line=47'>48</a>\u001b[0m pgui\u001b[39m.\u001b[39mclick(x, y)\n\u001b[1;32m---> <a href='vscode-notebook-cell:/c%3A/Users/taxio/python/Untitled.ipynb#ch0000007?line=48'>49</a>\u001b[0m time\u001b[39m.\u001b[39;49msleep(\u001b[39m4\u001b[39;49m)\n",
      "\u001b[1;31mKeyboardInterrupt\u001b[0m: "
     ]
    }
   ],
   "source": [
    "\n",
    "def dol1():\n",
    "    #1$を選択\n",
    "    time.sleep(1)\n",
    "    pos=0\n",
    "    A=False\n",
    "    for pos in pgui.locateAllOnScreen(\"img\\D1.png\",confidence=.6):\n",
    "        if len(pos)>0:\n",
    "            A=True\n",
    "            break\n",
    "    if A==True:\n",
    "        x, y = pgui.center(pos)\n",
    "        pgui.click(150, 150) #安全地帯\n",
    "        time.sleep(1)\n",
    "        pgui.click(x, y)\n",
    "\n",
    "def bet1_12(count):\n",
    "    #３つのうちどれかにベット\n",
    "    bet=[\"img\\B12.png\",\"img\\B24.png\",\"img\\B36.png\"]\n",
    "    pos=0\n",
    "    B=random.choice(bet)\n",
    "    A=False\n",
    "    time.sleep(1)\n",
    "    for pos in pgui.locateAllOnScreen(B,confidence=.8):\n",
    "        if len(pos)>0:\n",
    "            A=True\n",
    "            break\n",
    "    if A==True:\n",
    "        x, y = pgui.center(pos)\n",
    "        pgui.click(150, 150) #安全地帯\n",
    "        time.sleep(1)\n",
    "        for i in range(count):\n",
    "            time.sleep(0.3)\n",
    "            pgui.click(x, y)\n",
    "\n",
    "def spin():\n",
    "    #スピンを押す\n",
    "    pos=0\n",
    "    A=False\n",
    "    time.sleep(1)\n",
    "    for pos in pgui.locateAllOnScreen(\"img\\SPIN.png\",confidence=.6):\n",
    "        if len(pos)>0:\n",
    "            A=True\n",
    "            break\n",
    "    if A==True:\n",
    "        x, y = pgui.center(pos)\n",
    "        pgui.click(150, 150) #安全地帯\n",
    "        time.sleep(1)\n",
    "        pgui.click(x, y)\n",
    "        time.sleep(4)\n",
    "\n",
    "def judge():\n",
    "    #勝利判定\n",
    "    Judge=False\n",
    "    for i in range(25):\n",
    "        for PING in pgui.locateAllOnScreen(\"img\\Kakutoku.PNG\",confidence=.6):\n",
    "            if len(PING)>0:\n",
    "                Judge=True\n",
    "                break\n",
    "        if Judge==True:\n",
    "            break\n",
    "    return Judge\n",
    "\n",
    "def cont():\n",
    "    #６０分経過後のコンティニューを押す\n",
    "    pos=0\n",
    "    A=False\n",
    "    time.sleep(1)\n",
    "    for pos in pgui.locateAllOnScreen(\"img\\Continue.PNG\",confidence=.6):\n",
    "        if len(pos)>0:\n",
    "            A=True\n",
    "            break\n",
    "    if A==True:\n",
    "        x, y = pgui.center(pos)\n",
    "        pgui.click(150, 150) #安全地帯\n",
    "        time.sleep(1)\n",
    "        pgui.click(x, y)\n",
    "\n",
    "\n",
    "\n",
    "\n",
    "dol1()\n",
    "for i in range(300):\n",
    "    C=0\n",
    "    cont()\n",
    "    bet1_12(X[C])\n",
    "    spin()\n",
    "    Judge=judge()\n",
    "    while Judge==False:\n",
    "        print(\"lose\",end=\" \")\n",
    "        cont()\n",
    "        C+=1\n",
    "        bet1_12(X[C])\n",
    "        spin()\n",
    "        Judge=judge()\n",
    "        if C==5:\n",
    "            print(\"lose8\",end=\" \")\n",
    "            break\n",
    "    if Judge==True:\n",
    "        print(\"win\"+str(X[C]),end=\" \")\n",
    "    if i%10==0:\n",
    "        print(str(i))   \n",
    "    time.sleep(2)\n",
    "\n"
   ]
  },
  {
   "cell_type": "code",
   "execution_count": 126,
   "id": "6c2cb49e",
   "metadata": {},
   "outputs": [
    {
     "name": "stdout",
     "output_type": "stream",
     "text": [
      "img\\B24.png\n"
     ]
    }
   ],
   "source": []
  },
  {
   "cell_type": "code",
   "execution_count": 68,
   "id": "befc06e1",
   "metadata": {},
   "outputs": [
    {
     "name": "stdout",
     "output_type": "stream",
     "text": [
      "636 570\n",
      "792 568\n"
     ]
    }
   ],
   "source": [
    "\n",
    "\n",
    "left=0\n",
    "right=0\n",
    "time.sleep(1)\n",
    "\n",
    "for left in pgui.locateAllOnScreen(\"img\\Left.png\",confidence=.6):\n",
    "    if len(left)>0:\n",
    "        break\n",
    "Lx, Ly = pgui.center(left)\n",
    "print(Lx, Ly)\n",
    "\n",
    "for right in pgui.locateAllOnScreen(\"img\\Right.png\",confidence=.6):\n",
    "    if len(right)>0:\n",
    "        break\n",
    "Rx, Ry = pgui.center(right)\n",
    "print(Rx, Ry)\n",
    "\n",
    "\n",
    "\n"
   ]
  },
  {
   "cell_type": "code",
   "execution_count": 95,
   "id": "e20425ed",
   "metadata": {},
   "outputs": [
    {
     "name": "stdout",
     "output_type": "stream",
     "text": [
      "False\n"
     ]
    }
   ],
   "source": [
    "#勝利判定\n",
    "Judge=False\n",
    "for i in range(30):\n",
    "    for PING in pgui.locateAllOnScreen(\"img\\Kakutoku.PNG\",confidence=.6):\n",
    "        if len(PING)>0:\n",
    "            Judge=True\n",
    "            break\n",
    "    if Judge==True:\n",
    "        break\n",
    "print(Judge)"
   ]
  },
  {
   "cell_type": "code",
   "execution_count": null,
   "id": "7544b696",
   "metadata": {},
   "outputs": [],
   "source": []
  }
 ],
 "metadata": {
  "kernelspec": {
   "display_name": "Python 3 (ipykernel)",
   "language": "python",
   "name": "python3"
  },
  "language_info": {
   "codemirror_mode": {
    "name": "ipython",
    "version": 3
   },
   "file_extension": ".py",
   "mimetype": "text/x-python",
   "name": "python",
   "nbconvert_exporter": "python",
   "pygments_lexer": "ipython3",
   "version": "3.10.2"
  }
 },
 "nbformat": 4,
 "nbformat_minor": 5
}
